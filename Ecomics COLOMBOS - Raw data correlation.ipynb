{
 "cells": [
  {
   "cell_type": "markdown",
   "metadata": {},
   "source": [
    "# Raw data correlation\n",
    "\n",
    "Since the goal of any data preprocessing is to minimize contributions from unwanted sources of variation maximizing the *true* biological signals in order to make them comparable, it is reasonable to consider a simple correlation with the original biological information (raw data) a measure for how much of the original biological information have been retained after the normalization process.\n",
    "\n",
    "Here the file `expdata_ecoli_raw_data.h5` is an HDF5 that contains a matrix with all the raw data directly taken from GEO and ArrayExpress in which each column represent a single sample and each row represent a gene. Each value is either raw count in case of RNA-seq or the mean of the intensity values for microarray."
   ]
  },
  {
   "cell_type": "code",
   "execution_count": 1,
   "metadata": {},
   "outputs": [],
   "source": [
    "import pandas as pd\n",
    "import numpy as np\n",
    "import warnings\n",
    "warnings.filterwarnings('ignore')"
   ]
  },
  {
   "cell_type": "code",
   "execution_count": 2,
   "metadata": {},
   "outputs": [],
   "source": [
    "### Read COLOMBOS contrast data\n",
    "colombos_ctr_data = pd.read_table('colombos_ecoli_exprdata_20151029.txt', sep='\\t', nrows=6)\n",
    "colombos_ctr_data = colombos_ctr_data[colombos_ctr_data.columns[2:]]\n",
    "colombos_ctr_data = colombos_ctr_data.set_index(colombos_ctr_data.columns[0])\n",
    "colombos_ctr_data.index = list(colombos_ctr_data.index[:-1]) + ['Contrast ID']\n",
    "\n",
    "### Read COLOMBOS gene data\n",
    "colombos_gene_data = pd.read_table('colombos_ecoli_exprdata_20151029.txt', sep='\\t', skiprows=6)\n",
    "colombos_gene_data = colombos_gene_data[colombos_gene_data.columns[:3]]\n",
    "colombos_gene_data.columns = list(colombos_gene_data.columns[:2]) + ['Gene ID']\n",
    "colombos_gene_data = colombos_gene_data.set_index('Gene ID')\n",
    "colombos_gene_data['LocusTag'] = ['m.' + lc for lc in colombos_gene_data['LocusTag'].tolist()]\n",
    "\n",
    "### Read COLOMBOS expression data\n",
    "colombos_exp_data = pd.read_table('colombos_ecoli_exprdata_20151029.txt', sep='\\t', skiprows=6)\n",
    "colombos_exp_data = colombos_exp_data[colombos_exp_data.columns[2:]]\n",
    "colombos_exp_data = colombos_exp_data.rename(columns = {'Geneid/Contrast_id':'Gene ID'})\n",
    "colombos_exp_data = colombos_exp_data.set_index('Gene ID')"
   ]
  },
  {
   "cell_type": "code",
   "execution_count": 3,
   "metadata": {},
   "outputs": [],
   "source": [
    "store = pd.HDFStore('expdata_ecoli_raw_data.h5')\n",
    "df_raw_data = store['df']\n",
    "store.close()"
   ]
  },
  {
   "cell_type": "code",
   "execution_count": 4,
   "metadata": {},
   "outputs": [],
   "source": [
    "ecomics_info = pd.read_csv('ncomms13090-s2_trans.csv', index_col=0)\n",
    "ecomics_v8 = pd.read_csv('ecomics.transcriptome.no_avg.v8.txt', sep='\\t', index_col=0)\n",
    "del ecomics_v8['Cond']"
   ]
  },
  {
   "cell_type": "code",
   "execution_count": 5,
   "metadata": {},
   "outputs": [],
   "source": [
    "gene_order = sorted(list(set(df_raw_data.index).intersection(ecomics_v8.columns)))"
   ]
  },
  {
   "cell_type": "code",
   "execution_count": null,
   "metadata": {},
   "outputs": [],
   "source": [
    "corr_v8_raw = []\n",
    "for column in list(df_raw_data.columns):\n",
    "    sample_name, ch = column.split('.ch')\n",
    "    try:\n",
    "        idx = ecomics_info[(ecomics_info['Sample ID'] == sample_name)&(ecomics_info['Ch'] == ch)].index[0]\n",
    "        corr = pd.DataFrame({'ecomics_v8' : ecomics_v8[gene_order].loc[idx],\n",
    "                    'raw': np.log2(df_raw_data[column].loc[gene_order])})\n",
    "        corr_v8_raw.append(corr.corr().as_matrix()[0,1])\n",
    "    except Exception as e:\n",
    "        pass"
   ]
  },
  {
   "cell_type": "code",
   "execution_count": null,
   "metadata": {},
   "outputs": [],
   "source": [
    "colombos_raw = []\n",
    "gene_order_ids = colombos_gene_data.reset_index().set_index('LocusTag').loc[gene_order]['Gene ID'].tolist()\n",
    "for ctr in colombos_ctr_data.columns:\n",
    "    ctr_id = colombos_ctr_data[ctr]['Contrast ID']\n",
    "    try:\n",
    "        test, ref= ctr.split('-vs-')\n",
    "        corr = pd.DataFrame({'colombos' : colombos_exp_data[ctr_id].loc[gene_order_ids].values,\n",
    "                            'raw': (np.log2(df_raw_data[test].loc[gene_order]) - \n",
    "                             np.log2(df_raw_data[ref].loc[gene_order])).values}, index=gene_order)\n",
    "        colombos_raw.append(corr.corr().as_matrix()[0,1])\n",
    "    except Exception as e:\n",
    "        pass"
   ]
  },
  {
   "cell_type": "code",
   "execution_count": null,
   "metadata": {},
   "outputs": [],
   "source": [
    "import matplotlib\n",
    "import pandas as pd\n",
    "import numpy as np\n",
    "import matplotlib.pyplot as plt\n",
    "from scipy import stats\n",
    "import seaborn as sea\n",
    "\n",
    "%matplotlib inline\n",
    "\n",
    "plt.figure(figsize=(15,5))\n",
    "\n",
    "corr_v8_raw = np.array(corr_v8_raw)\n",
    "corr_v8_raw = corr_v8_raw[~np.isnan(corr_v8_raw)]\n",
    "\n",
    "colombos_raw = np.array(colombos_raw)\n",
    "colombos_raw = colombos_raw[~np.isnan(colombos_raw)]\n",
    "                          \n",
    "_ = plt.hist(corr_v8_raw, bins=100, color='green', alpha=0.6, normed=True, label='Ecomics v8')\n",
    "_ = plt.hist(colombos_raw, bins=100, color='red', alpha=0.6, normed=True, label='COLOMBOS')\n",
    "plt.legend(loc='best')\n",
    "plt.show()"
   ]
  }
 ],
 "metadata": {
  "kernelspec": {
   "display_name": "Python 3",
   "language": "python",
   "name": "python3"
  },
  "language_info": {
   "codemirror_mode": {
    "name": "ipython",
    "version": 3
   },
   "file_extension": ".py",
   "mimetype": "text/x-python",
   "name": "python",
   "nbconvert_exporter": "python",
   "pygments_lexer": "ipython3",
   "version": "3.6.3"
  }
 },
 "nbformat": 4,
 "nbformat_minor": 2
}
